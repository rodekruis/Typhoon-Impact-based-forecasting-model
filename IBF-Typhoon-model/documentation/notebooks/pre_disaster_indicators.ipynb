{
 "cells": [
  {
   "cell_type": "code",
   "execution_count": null,
   "metadata": {},
   "outputs": [],
   "source": [
    "from geopandas.tools import sjoin\n",
    "import os\n",
    "import numpy as np\n",
    "import xarray as xr\n",
    "import pandas as pd\n",
    "import geopandas as gpd\n",
    "import sys\n",
    "\n",
    "\n",
    "from pathlib import Path\n",
    "# Get the current working directory\n",
    "current_dir = Path.cwd()\n",
    "\n",
    "wor_dir = current_dir / Path('../../')\n",
    "\n",
    "\n"
   ]
  },
  {
   "cell_type": "markdown",
   "metadata": {},
   "source": [
    "### Source for pre disaster indicators: https://data.humdata.org/dataset/philippines-pre-disaster-indicators"
   ]
  },
  {
   "cell_type": "code",
   "execution_count": null,
   "metadata": {},
   "outputs": [],
   "source": [
    "file_name = \"./data/pre_disaster_indicators/190108_pantawid-pamilya-beneficiary-households-and-household-members-by-sex-and-age-group.xlsx\"\n",
    "\n",
    "path = os.path.join(wor_dir, file_name)\n",
    "\n",
    "pantawid_pamilya_beneficiary = pd.read_excel(path, sheet_name=\"Data\", engine=\"openpyxl\").filter(['PCODE_MUN_CTY','Total # of Active HHs','Total HH MEM_M','Total HH MEM_F'])\n",
    "#pantawid_pamilya_beneficiary['Municipality_City Code']=pantawid_pamilya_beneficiary['PCODE_MUN_CTY']\n",
    "\n",
    "pantawid_pamilya_beneficiary.rename(columns={\"PCODE_MUN_CTY\": \"Mun_Code\"},inplace=True)\n",
    "pantawid_pamilya_beneficiary['pantawid_total_pop']=pantawid_pamilya_beneficiary[\"Total HH MEM_M\"]+pantawid_pamilya_beneficiary[\"Total HH MEM_F\"]\n",
    "pantawid_pamilya_beneficiary =  pantawid_pamilya_beneficiary.filter(['Mun_Code','Total # of Active HHs','pantawid_total_pop'])\n",
    "display(pantawid_pamilya_beneficiary.head())\n",
    " \n",
    "\n",
    " \n"
   ]
  },
  {
   "cell_type": "markdown",
   "metadata": {},
   "source": [
    "### population per admin "
   ]
  },
  {
   "cell_type": "code",
   "execution_count": null,
   "metadata": {},
   "outputs": [],
   "source": [
    "file_name = \"./data/pre_disaster_indicators/180814_philippines-population-admin-1-to-3_2015_vertical.xlsx\"\n",
    "\n",
    "path = os.path.join(wor_dir, file_name)\n",
    "\n",
    "population_admin = pd.read_excel(path, sheet_name=\"Municipality\", engine=\"openpyxl\").filter(['Municipality_City Code','Female','Male']).groupby('Municipality_City Code').agg('sum')\n",
    "\n",
    "population_admin['Total Pop']=population_admin.sum(axis=\"columns\") \n",
    "population_admin['Mun_Code']=population_admin.index.tolist()\n",
    "\n",
    "population_admin.reset_index(drop=True, inplace=True)\n",
    "\n",
    "#population_admin.rename(columns={\"Municipality_City Code\": \"Mun_Code\"},inplace=True)\n",
    "display(population_admin.head())"
   ]
  },
  {
   "cell_type": "markdown",
   "metadata": {},
   "source": [
    "### vulnerable Groups"
   ]
  },
  {
   "cell_type": "code",
   "execution_count": null,
   "metadata": {
    "scrolled": true
   },
   "outputs": [],
   "source": [
    "file_name = \"./data/pre_disaster_indicators/180814_vulnerable-groups_by-city_municipality.xlsx\"\n",
    "\n",
    "path = os.path.join(wor_dir, file_name)\n",
    "\n",
    "vulnerable_groups = pd.read_excel(path, sheet_name=\"Data\", engine=\"openpyxl\")\n",
    "\n",
    "vulnerable_groups['vulnerable_groups']=vulnerable_groups.sum(axis=\"columns\")\n",
    "vulnerable_groups=vulnerable_groups.filter(['Municipality_City Code','vulnerable_groups'])\n",
    "vulnerable_groups.rename(columns={\"Municipality_City Code\": \"Mun_Code\"},inplace=True)\n",
    "display(vulnerable_groups.head())"
   ]
  },
  {
   "cell_type": "markdown",
   "metadata": {},
   "source": [
    "### housing material"
   ]
  },
  {
   "cell_type": "code",
   "execution_count": null,
   "metadata": {},
   "outputs": [],
   "source": [
    "file_name = \"./data/pre_disaster_indicators/180814_construction-materials-of-the-outer-walls-and-roof_by-city_municipality.xlsx\"\n",
    "\n",
    "path = os.path.join(wor_dir, file_name)\n",
    "\n",
    "construction_materials = pd.read_excel(path, sheet_name=\"by category\", engine=\"openpyxl\")\n",
    "construction_materials.rename(columns={\"Municipality_City Code\": \"Mun_Code\"},inplace=True)\n",
    "construction_materials=construction_materials.filter(['Mun_Code', 'Housing Units','Strong Roof/Strong Wall', 'Strong Roof/Light Wall','Strong Roof/Salvage Wall', 'Light Roof/Strong Wall','Light Roof/Light Wall', 'Light Roof/Salvage Wall','Salvaged Roof/Strong Wall', 'Salvaged Roof/Light Wall', 'Salvaged Roof/Salvage Wall'])\n",
    "\n",
    "df_cons_mat=construction_materials.iloc[:,2:].div(0.01*construction_materials[\"Housing Units\"], axis=0)\n",
    "df_cons_mat['Mun_Code']=construction_materials['Mun_Code']\n",
    "df_cons_mat[\"Housing Units\"]=construction_materials[\"Housing Units\"]\n",
    "\n",
    "display(df_cons_mat.head())\n"
   ]
  },
  {
   "cell_type": "code",
   "execution_count": 97,
   "metadata": {},
   "outputs": [],
   "source": [
    "#df_cm=construction_materials\n",
    "#df_cm.rename(columns ={'Housing Units':'HUNITS', 'Strong Roof/Strong Wall':'SRSW','Strong Roof/Light Wall':'SRLW', 'Strong Roof/Salvage Wall':'SRSW','Light Roof/Strong Wall':'LRSW', 'Light Roof/Light Wall':'LRLW','Light Roof/Salvage Wall':'LRSW', 'Salvaged Roof/Strong Wall':'SRSW','Salvaged Roof/Light Wall':'SRLW', 'Salvaged Roof/Salvage Wall':'SRSW'},inplace=True)\n"
   ]
  },
  {
   "cell_type": "code",
   "execution_count": null,
   "metadata": {},
   "outputs": [],
   "source": [
    "len(construction_materials['Housing Units'])"
   ]
  },
  {
   "cell_type": "markdown",
   "metadata": {},
   "source": [
    "### Data on topography related variables "
   ]
  },
  {
   "cell_type": "code",
   "execution_count": null,
   "metadata": {},
   "outputs": [],
   "source": [
    "geo_variable = pd.read_csv(./\"data/topography/geo_variable.csv\")\n",
    "geo_variable=geo_variable.filter(['Mun_Code', 'mean_slope', 'mean_elevation_m','ruggedness_stdev', 'mean_ruggedness', 'slope_stdev', 'area_km2','poverty_perc', 'with_coast', 'coast_length', 'perimeter'])\n",
    "\n",
    "display(geo_variable.head())"
   ]
  },
  {
   "cell_type": "markdown",
   "metadata": {},
   "source": [
    "### Data for Land slide /storm surge vulnerable areas "
   ]
  },
  {
   "cell_type": "code",
   "execution_count": null,
   "metadata": {},
   "outputs": [],
   "source": [
    "data_matrix_new_variables = pd.read_csv(\"./data/landuse_stormsurge/data_matrix_new_variables.csv\")\n",
    "data_matrix_new_variables=data_matrix_new_variables.filter(['Mun_Code', 'landslide_per', 'stormsurge_per', 'Bu_p_inSSA','Bu_p_LS', 'Red_per_LSbldg', 'Or_per_LSblg', 'Yel_per_LSSAb','RED_per_SSAbldg', 'OR_per_SSAbldg', 'Yellow_per_LSbl'])\n",
    "display(data_matrix_new_variables.head())"
   ]
  },
  {
   "cell_type": "markdown",
   "metadata": {},
   "source": [
    "### Impact Data(Damage and Loss data)"
   ]
  },
  {
   "cell_type": "code",
   "execution_count": 152,
   "metadata": {},
   "outputs": [],
   "source": [
    "\n",
    "#df_total[\"perc_loss\"] = df_total.apply(lambda x: division(x[\"area_affected\"], x[\"rice_area\"]), axis=1).values\n",
    "impact = pd.read_csv(\"./data/Impact/IMpact_data_philipines_SEP_2021.csv\")\n",
    "impact['typhoon']=impact[\"typhoon\"].astype(str)  + impact[\"Year\"].astype(str)\n",
    "impact['typhoon']= impact['typhoon'].map(lambda x: x.lower())\n",
    "impact.rename(columns={\"pcode\": \"Mun_Code\"},inplace=True)\n",
    "typhoons_with_impact_data=list(np.unique(impact.typhoon))\n",
    "#display(impact.head())\n",
    " \n",
    "impact=impact[['Mun_Code','typhoon','Totally','Partially','total']]\n",
    "df_impact=impact[['typhoon','Totally']].groupby('typhoon').sum().sort_values(by='Totally',ascending=False)#.head(n=10)\n",
    "\n",
    "df_impact.reset_index(inplace=True)\n",
    "df_impact['typhoon_name']=df_impact['typhoon'].apply(lambda x:(x[:-4].upper()+'-'+x[-4:]))"
   ]
  },
  {
   "cell_type": "code",
   "execution_count": null,
   "metadata": {},
   "outputs": [],
   "source": [
    "display(impact.head())"
   ]
  },
  {
   "cell_type": "markdown",
   "metadata": {},
   "source": [
    "### number of Households per Manucipality "
   ]
  },
  {
   "cell_type": "code",
   "execution_count": null,
   "metadata": {},
   "outputs": [],
   "source": [
    "file_name = \"./data/pre_disaster_indicators/180814_number-of-household_by-city_municipality.xlsx\"\n",
    "\n",
    "path = os.path.join(wor_dir, file_name)\n",
    "\n",
    "household_by_city_municipality = pd.read_excel(path, sheet_name=\"Data\", engine=\"openpyxl\").filter(['Municipality_City','Municipality_City Code','Number of Household'])\n",
    "household_by_city_municipality.rename(columns={\"Municipality_City Code\": \"Mun_Code\"},inplace=True)\n",
    "household_by_city_municipality=household_by_city_municipality.filter(['Mun_Code','Number of Household'])\n",
    "display(household_by_city_municipality.head())\n"
   ]
  },
  {
   "cell_type": "markdown",
   "metadata": {},
   "source": [
    "### historical Typhoons Methadata (name, start date, end date, land fall)"
   ]
  },
  {
   "cell_type": "code",
   "execution_count": 142,
   "metadata": {},
   "outputs": [],
   "source": [
    "typhoon_metadata_filename = os.path.join(wor_dir, \"./data/rainfall_data/input/metadata_typhoons.csv\")\n",
    "typhoon_metadata = pd.read_csv(typhoon_metadata_filename, delimiter=\",\")\n",
    "\n",
    "typhoons = list(np.unique(impact.typhoon.values))# typhoon_metadata.typhoon.tolist() ## historical typhoon events \n",
    "municipalities=population_admin.Mun_Code.tolist() \n",
    "\n",
    "N_typh = len(typhoons)\n",
    "N_mun = len(municipalities)\n",
    "\n",
    "municipality_codes_full = np.repeat(municipalities, N_typh)\n",
    "typhoons_full = typhoons * N_mun"
   ]
  },
  {
   "cell_type": "code",
   "execution_count": null,
   "metadata": {},
   "outputs": [],
   "source": [
    "pantawid_pamilya_beneficiary"
   ]
  },
  {
   "cell_type": "code",
   "execution_count": null,
   "metadata": {},
   "outputs": [],
   "source": [
    " "
   ]
  },
  {
   "cell_type": "markdown",
   "metadata": {},
   "source": [
    "### create data frame for all pre disaster indicators "
   ]
  },
  {
   "cell_type": "code",
   "execution_count": null,
   "metadata": {},
   "outputs": [],
   "source": [
    "data_temp1 = {\"Mun_Code\": municipality_codes_full}#, \"typhoon\": typhoons_full}\n",
    "df_temp_total = pd.DataFrame(data_temp1)\n",
    "\n",
    "##data_matrix_new_variables\n",
    "df_temp_total=df_temp_total.join(household_by_city_municipality.set_index('Mun_Code'), on='Mun_Code')\n",
    "\n",
    "##data_matrix_new_variables\n",
    "df_temp_total=df_temp_total.join(data_matrix_new_variables.set_index('Mun_Code'), on='Mun_Code')\n",
    "\n",
    "#geo_variable\n",
    "df_temp_total=df_temp_total.join(geo_variable.set_index('Mun_Code'), on='Mun_Code')\n",
    "#construction_materials\n",
    "df_temp_total=df_temp_total.join(df_cons_mat.set_index('Mun_Code'), on='Mun_Code')\n",
    "#vulnerable_groups\n",
    "df_temp_total=df_temp_total.join(vulnerable_groups.set_index('Mun_Code'), on='Mun_Code')\n",
    "#population_admin\n",
    "df_temp_total=df_temp_total.join(population_admin.set_index('Mun_Code'), on='Mun_Code')\n",
    "#pantawid_pamilya_beneficiary\n",
    "df_temp_total=df_temp_total.join(pantawid_pamilya_beneficiary.set_index('Mun_Code'), on='Mun_Code')\n",
    "\n",
    "def housing(df):\n",
    "    x=float(df[0])\n",
    "    y=df[1]\n",
    "    if np.isnan(y) and x>0:\n",
    "        value=x\n",
    "    elif np.isnan(y) and x<1:\n",
    "        value=1\n",
    "    else:\n",
    "        value=y\n",
    "    return value\n",
    "df_temp_total[\"Housing Units\"] = df_temp_total[['Number of Household','Housing Units']].apply(housing, axis=\"columns\")\n",
    " \n",
    "    \n",
    "df_predisasters=df_temp_total#.set_index(['Mun_Code', 'typhoon'])\n",
    "\n",
    "\n",
    " \n",
    "\n",
    "colnames=['landslide_per',\n",
    "       'stormsurge_per', 'Bu_p_inSSA', 'Bu_p_LS', 'Red_per_LSbldg',\n",
    "       'Or_per_LSblg', 'Yel_per_LSSAb', 'RED_per_SSAbldg', 'OR_per_SSAbldg',\n",
    "       'Yellow_per_LSbl', 'mean_slope', 'mean_elevation_m', 'ruggedness_stdev',\n",
    "       'mean_ruggedness', 'slope_stdev', 'area_km2', 'poverty_perc',\n",
    "       'with_coast', 'coast_length', 'perimeter',\n",
    "       'Strong Roof/Strong Wall', 'Strong Roof/Light Wall',\n",
    "       'Strong Roof/Salvage Wall', 'Light Roof/Strong Wall',\n",
    "       'Light Roof/Light Wall', 'Light Roof/Salvage Wall',\n",
    "       'Salvaged Roof/Strong Wall', 'Salvaged Roof/Light Wall',\n",
    "       'Salvaged Roof/Salvage Wall', 'vulnerable_groups', 'Female', 'Male',\n",
    "       'Total Pop', 'Total # of Active HHs', 'Total HH MEM_M',\n",
    "       'Total HH MEM_F']\n",
    "\n",
    "for column in df_predisasters:\n",
    "    if column in colnames:\n",
    "        df_predisasters[column].fillna((df_predisasters[column].min(skipna=True)), inplace=True)\n",
    "        \n",
    "        \n",
    "display(df_predisasters.head())"
   ]
  },
  {
   "cell_type": "code",
   "execution_count": null,
   "metadata": {},
   "outputs": [],
   "source": [
    "df_predisasters.columns"
   ]
  },
  {
   "cell_type": "code",
   "execution_count": null,
   "metadata": {},
   "outputs": [],
   "source": [
    "df_predisasters"
   ]
  },
  {
   "cell_type": "markdown",
   "metadata": {},
   "source": [
    "### Add Typhoon wind Data"
   ]
  },
  {
   "cell_type": "code",
   "execution_count": 15,
   "metadata": {},
   "outputs": [],
   "source": [
    "#Adding the wind data\n",
    "\n",
    "data_temp1 = {\"Mun_Code\": municipality_codes_full, \"typhoon\": typhoons_full}\n",
    "df_total = pd.DataFrame(data_temp1)\n",
    "\n",
    "df_total[\"vmax\"] = \"\"\n",
    "df_total[\"dis_track_min\"] = \"\"\n",
    "\n",
    "df_wind_final= pd.DataFrame(columns=[\"typhoon\", \"Mun_Code\", \"v_max\",\"dis_track_min\"])\n",
    "\n",
    "for typhoon in typhoons:\n",
    "\n",
    "    # Path to the rainfall excel sheet per typhoon\n",
    "    wind_path = os.path.join(\n",
    "        wor_dir,\n",
    "        \"data/wind_data/output\",\n",
    "        typhoon +\n",
    "        \"_windgrid_output.csv\",\n",
    "    )\n",
    "    df_temp = pd.read_csv(wind_path)\n",
    "    \n",
    "    df_wind_single = pd.DataFrame({\"Mun_Code\": df_temp[\"adm3_pcode\"],\"v_max\": df_temp[\"v_max\"],\n",
    "                                   \"dis_track_min\": df_temp[\"dis_track_min\"] })\n",
    "    df_wind_single['typhoon']=typhoon\n",
    "    df_wind_final = df_wind_final.append(df_wind_single) \n"
   ]
  },
  {
   "cell_type": "code",
   "execution_count": 17,
   "metadata": {},
   "outputs": [],
   "source": [
    "df_wind_final['typhoon_name']=df_wind_final['typhoon'].apply(lambda x:(x[:-4].upper()+'-'+x[-4:]))\n",
    " \n",
    "df_wind=df_wind_final[['typhoon_name','v_max']].groupby('typhoon_name').max().sort_values(by='v_max',ascending=False)#.head(n=10)\n",
    "df_wind.reset_index(inplace=True)\n"
   ]
  },
  {
   "cell_type": "markdown",
   "metadata": {},
   "source": [
    "### Add rainfall data"
   ]
  },
  {
   "cell_type": "code",
   "execution_count": 18,
   "metadata": {},
   "outputs": [],
   "source": [
    "# Path to the rainfall excel sheet per typhoon\n",
    "rain_path = os.path.join(wor_dir,\"./data/rainfall_data/rainfall_data.csv\")\n",
    "df_rain_final = pd.read_csv(rain_path)\n",
    "df_rain_final=df_rain_final[df_rain_final.typhoon.isin(typhoons)]\n"
   ]
  },
  {
   "cell_type": "code",
   "execution_count": null,
   "metadata": {},
   "outputs": [],
   "source": []
  },
  {
   "cell_type": "markdown",
   "metadata": {},
   "source": [
    "### Merge rainfall and Wind data"
   ]
  },
  {
   "cell_type": "code",
   "execution_count": null,
   "metadata": {},
   "outputs": [],
   "source": [
    "df_hazard = pd.merge(df_rain_final, df_wind_final,  how='left', left_on=['Mun_Code', 'typhoon'], right_on = ['Mun_Code', 'typhoon'])\n",
    "#df_hazard=df_hazard[df_hazard['dis_track_min']<100]\n",
    "display(df_hazard.head())  "
   ]
  },
  {
   "cell_type": "code",
   "execution_count": null,
   "metadata": {},
   "outputs": [],
   "source": [
    "df_impact_hazard =pd.merge(df_hazard, impact,  how='left', left_on=['Mun_Code', 'typhoon'], right_on = ['Mun_Code', 'typhoon'])\n",
    "display(df_impact_hazard.head()) "
   ]
  },
  {
   "cell_type": "code",
   "execution_count": null,
   "metadata": {
    "scrolled": true
   },
   "outputs": [],
   "source": [
    "df_impact_hazard[['typhoon','rainfall_Total','v_max','Totally', 'rainfall_max_6h',\n",
    "       'rainfall_max_24h']].groupby('typhoon').agg(rainfall_Total=('rainfall_Total', max), \n",
    "                                                   rainfall_max_6h=('rainfall_max_6h', max), \n",
    "                                                    rainfall_max_24h=('rainfall_max_24h', max), \n",
    "                                                   v_max=('v_max', max), \n",
    "                                                   Totally=('Totally', sum)).sort_values(by='rainfall_Total',ascending=False)\n"
   ]
  },
  {
   "cell_type": "code",
   "execution_count": null,
   "metadata": {},
   "outputs": [],
   "source": [
    "df_impact_hazard['typhoon_name']=df_impact_hazard['typhoon'].apply(lambda x:(x[:-4].upper()+'-'+x[-4:]))\n",
    " \n",
    "df_im_haz=df_impact_hazard[['typhoon_name','rainfall_Total','v_max','Totally']].groupby('typhoon_name').agg(rainfall_Total=('rainfall_Total', max), v_max=('v_max', max), Totally=('Totally', sum)).sort_values(by='Totally',ascending=False).head(n=20)\n",
    " \n",
    "df_im_haz.rename(columns={\"rainfall_Total\": \"Total Rainfall\", \"v_max\": \"Maximum Wind\", \"Totally\": \"Damaged Buildings\"},inplace=True)\n",
    "\n",
    "import matplotlib.pyplot as plt\n",
    "import seaborn as sns\n",
    "# Initialize the figure with a logarithmic x axis\n",
    "plt.rcParams.update({'font.size': 12})\n",
    "f, ax = plt.subplots(figsize=(7, 7))\n",
    "ax.set(yscale=\"linear\", xscale=\"linear\")\n",
    "\n",
    "sns.regplot (y='Damaged Buildings', x='Maximum Wind', data=df_im_haz,scatter_kws={\"s\": 100},order=1,ci=0)  \n",
    "# Plot the orbital period with horizontal boxes\n",
    "#sns.relplot(y='Damaged Buildings', x='Maximum Wind', data=df_im_haz,palette=\"vlag\")\n",
    "\n",
    "# Add in points to show each observation\n",
    "#sns.stripplot(y='Models', x='MAPE', data=df_im_haz,size=2, color=\".3\", linewidth=0)\n",
    "\n",
    "# Tweak the visual presentation\n",
    "ax.xaxis.grid(True)\n",
    "#ax.set(ylabel=\"\")\n",
    "ax.set_title('Comparsion of reported Damage with wind speed',fontsize=16)\n",
    "ax.set_xlabel('Windspeed(m/s)',fontsize=14)\n",
    "ax.set_ylabel('Number of Damaged Building',fontsize=12)\n",
    "#ax.set_xticklabels(ax.get_xticklabels(),rotation = 90)\n",
    "#sns.despine(trim=True, left=True)\n",
    "#f.savefig('algorithms_comparsion_mape.jpg', format='jpg', dpi=600)\n",
    "ax.yaxis.set_label_position(\"right\")\n",
    "f.savefig('wind_BUILDINGDAMAGE.jpg', format='jpg', dpi=600)\n",
    "#fig.savefig('Hazard_damage_comparsion.jpg', format='jpg', dpi=400)"
   ]
  },
  {
   "cell_type": "code",
   "execution_count": null,
   "metadata": {},
   "outputs": [],
   "source": [
    "f, ax = plt.subplots(figsize=(7, 7))\n",
    "ax.set(yscale=\"linear\", xscale=\"linear\")\n",
    "\n",
    "sns.regplot (y='Damaged Buildings', x='Total Rainfall', data=df_im_haz,scatter_kws={\"s\": 100},order=1,ci=0)  \n",
    "# Plot the orbital period with horizontal boxes\n",
    "#sns.relplot(y='Damaged Buildings', x='Maximum Wind', data=df_im_haz,palette=\"vlag\")\n",
    "\n",
    "# Add in points to show each observation\n",
    "#sns.stripplot(y='Models', x='MAPE', data=df_im_haz,size=2, color=\".3\", linewidth=0)\n",
    "\n",
    "# Tweak the visual presentation\n",
    "ax.xaxis.grid(True)\n",
    "#ax.set(ylabel=\"\")\n",
    "ax.set_title('Comparsion of reported Damage with Total Rainfall',fontsize=16)\n",
    "ax.set_xlabel('Total Rainfall(mm)',fontsize=14)\n",
    "ax.set_ylabel('Number of Damaged Building',fontsize=12)\n",
    "ax.yaxis.set_label_position(\"right\")\n",
    "#ax.set_xticklabels(ax.get_xticklabels(),rotation = 90)\n",
    "#sns.despine(trim=True, left=True)\n",
    "f.savefig('RAIN_BUILDINGDAMAGE.jpg', format='jpg', dpi=600)\n",
    "\n",
    "\n",
    "#fig.savefig('Hazard_damage_comparsion.jpg', format='jpg', dpi=400)\n"
   ]
  },
  {
   "cell_type": "markdown",
   "metadata": {},
   "source": [
    "### Merge hazard(rainfall and Wind) data with Impac"
   ]
  },
  {
   "cell_type": "code",
   "execution_count": null,
   "metadata": {},
   "outputs": [],
   "source": [
    "df_impact_hazard['typhoon_name']=df_impact_hazard['typhoon'].apply(lambda x:(x[:-4].upper()+'-'+x[-4:]))\n",
    " \n",
    "df_im_haz=df_impact_hazard[['typhoon_name','rainfall_Total','v_max','Totally']].groupby('typhoon_name').agg(rainfall_Total=('rainfall_Total', max), v_max=('v_max', max), Totally=('Totally', sum)).sort_values(by='Totally',ascending=False).head(n=20)\n",
    " \n",
    "def f(s):\n",
    "    rmalized_df=(s-s.min())/(s.max()-s.min())\n",
    "    return rmalized_df#s/s.max()\n",
    "\n",
    "df_im_haz=df_im_haz[['rainfall_Total','v_max','Totally']].apply(f, axis=0)\n",
    "\n",
    "df_im_haz.rename(columns={\"rainfall_Total\": \"Total Rainfall\", \"v_max\": \"Maximum Wind\", \"Totally\": \"Damaged Buildings\"},inplace=True)\n",
    "df_im_haz\n",
    "import matplotlib.pyplot as plt\n",
    "\n",
    "plt.rcParams.update({'font.size': 16})\n",
    "fig, ax = plt.subplots(figsize=(16, 14))\n",
    "\n",
    " \n",
    "df_im_haz.plot(ax=ax,kind='barh',color=['#6baed6','#bababa','#fb6a4a'])\n",
    "\n",
    "ax.set_title('Comparsion of reported Damage with Hazard indicators',fontsize=18)\n",
    "ax.set_xlabel('Normalized Windspeed, Rainfall and Total Nmber of Damaged Buildings',fontsize=18)\n",
    "ax.set_ylabel('',fontsize=14)\n",
    "\n",
    "\n",
    "fig.savefig('Hazard_damage_comparsion.jpg', format='jpg', dpi=400)\n",
    "\n",
    "\n",
    "\n",
    "\n",
    "#\n",
    "    "
   ]
  },
  {
   "cell_type": "code",
   "execution_count": null,
   "metadata": {},
   "outputs": [],
   "source": [
    "df_total=pd.merge(df_impact_hazard, df_predisasters,  how='left', left_on=['Mun_Code', 'typhoon'], right_on = ['Mun_Code', 'typhoon'])\n",
    "df_total=df_total[df_total['v_max'].notnull()]\n",
    "df_total=df_total[df_total['rainfall_max_6h'].notnull()] \n",
    "#df_total=df_total[df_total['dis_track_min']<100]\n",
    "display(df_total)"
   ]
  },
  {
   "cell_type": "markdown",
   "metadata": {},
   "source": [
    "\n",
    "\n",
    "###  Normalize data uisng population size or number of housing uints per manucipality (Calculate percentage per manucipality)"
   ]
  },
  {
   "cell_type": "code",
   "execution_count": null,
   "metadata": {},
   "outputs": [],
   "source": [
    "\n",
    "def division(x, y):\n",
    "    try:\n",
    "        value =100* (x / y)\n",
    "        \n",
    "    except:\n",
    "        value = np.nan\n",
    "    \n",
    "    return 100 if value>100 else value\n",
    "\n",
    "\n",
    "  \n",
    "\n",
    "# Setting the new damage threshold\n",
    "\n",
    "df_total[\"perc_dmg\"] = df_total.apply(lambda x: division(x[\"Totally\"], x[\"Housing Units\"]), axis=1).values\n",
    "\n",
    "\n",
    "\n",
    "df_total[\"vulnerable_groups\"] = df_total.apply(lambda x: division(x[\"vulnerable_groups\"], x[\"Total Pop\"]), axis=1).values\n",
    "#df_total[\"pantawid_pamilya_beneficiary\"] = df_total.apply(lambda x: division(x[\"Total # of Active HHs\"], x[\"Housing Units\"]), axis=1).values\n",
    "df_total[\"pantawid_pamilya_beneficiary\"] = df_total.apply(lambda x: division(x[\"pantawid_total_pop\"], x[\"Total Pop\"]), axis=1).values\n",
    "#df_total[\"Strong Roof/Strong Wall\"] = df_total.apply(lambda x: division(x[\"Strong Roof/Strong Wall\"], x[\"Housing Units\"]), axis=1).values\n",
    "#df_total[\"Strong Roof/Light Wall\"] = df_total.apply(lambda x: division(x[\"Strong Roof/Light Wall\"], x[\"Housing Units\"]), axis=1).values\n",
    "#df_total[\"Strong Roof/Salvage Wall\"] = df_total.apply(lambda x: division(x[\"Strong Roof/Salvage Wall\"], x[\"Housing Units\"]), axis=1).values\n",
    "#df_total[\"Light Roof/Strong Wall\"] = df_total.apply(lambda x: division(x[\"Light Roof/Strong Wall\"], x[\"Housing Units\"]), axis=1).values\n",
    "#df_total[\"Light Roof/Light Wall\"] = df_total.apply(lambda x: division(x[\"Light Roof/Light Wall\"], x[\"Housing Units\"]), axis=1).values\n",
    "##df_total[\"Light Roof/Salvage Wall\"] = df_total.apply(lambda x: division(x[\"Light Roof/Salvage Wall\"], x[\"Housing Units\"]), axis=1).values\n",
    "#df_total[\"Salvaged Roof/Strong Wall\"] = df_total.apply(lambda x: division(x[\"Salvaged Roof/Strong Wall\"], x[\"Housing Units\"]), axis=1).values\n",
    "#df_total[\"Salvaged Roof/Light Wall\"] = df_total.apply(lambda x: division(x[\"Salvaged Roof/Light Wall\"], x[\"Housing Units\"]), axis=1).values\n",
    "#df_total[\"Salvaged Roof/Salvage Wall\"] = df_total.apply(lambda x: division(x[\"Salvaged Roof/Salvage Wall\"], x[\"Housing Units\"]), axis=1).values\n",
    "\n",
    "display(df_total)"
   ]
  },
  {
   "cell_type": "markdown",
   "metadata": {},
   "source": [
    "### filter final data frame for only relevant features "
   ]
  },
  {
   "cell_type": "code",
   "execution_count": 41,
   "metadata": {},
   "outputs": [],
   "source": [
    "df_total=df_total.filter(['Mun_Code', 'typhoon', 'rainfall_Total', 'rainfall_max_6h',\n",
    "                 'rainfall_max_24h', 'v_max', 'dis_track_min','landslide_per', 'stormsurge_per',\n",
    "                 'Bu_p_inSSA','Bu_p_LS', 'Red_per_LSbldg', 'Or_per_LSblg',\n",
    "                 'Yel_per_LSSAb','RED_per_SSAbldg', 'OR_per_SSAbldg', \n",
    "                 'Yellow_per_LSbl', 'mean_slope','mean_elevation_m', \n",
    "                 'ruggedness_stdev', 'mean_ruggedness','slope_stdev',\n",
    "                 'poverty_perc', 'with_coast', 'coast_length','Housing Units', 'Strong Roof/Strong Wall',\n",
    "                 'Strong Roof/Light Wall', 'Strong Roof/Salvage Wall',\n",
    "                 'Light Roof/Strong Wall', 'Light Roof/Light Wall',\n",
    "                 'Light Roof/Salvage Wall', 'Salvaged Roof/Strong Wall',\n",
    "                 'Salvaged Roof/Light Wall', 'Salvaged Roof/Salvage Wall',\n",
    "                 'vulnerable_groups', 'pantawid_pamilya_beneficiary','perc_dmg'])\n",
    "\n",
    "\n",
    "df_total.rename(columns ={\"rainfall_Total\":\"HAZ_rainfall_Total\",\n",
    "                                     'rainfall_max_6h':'HAZ_rainfall_max_6h',\n",
    "                                     'rainfall_max_24h':'HAZ_rainfall_max_24h',\n",
    "                                     'v_max':'HAZ_v_max',\n",
    "                                     'dis_track_min':'HAZ_dis_track_min',\n",
    "                                     'binary_dmg':'DAM_binary_dmg',\n",
    "                                     'perc_dmg':'DAM_perc_dmg',\n",
    "                                    'landslide_per':'GEN_landslide_per',\n",
    "                                    'stormsurge_per':'GEN_stormsurge_per',\n",
    "                                    'Bu_p_inSSA':'GEN_Bu_p_inSSA',\n",
    "                                    'Bu_p_LS':'GEN_Bu_p_LS',\n",
    "                                     'Red_per_LSbldg':'GEN_Red_per_LSbldg',\n",
    "                                    'Or_per_LSblg':'GEN_Or_per_LSblg',\n",
    "                                     'Yel_per_LSSAb':'GEN_Yel_per_LSSAb',\n",
    "                                    'RED_per_SSAbldg':'GEN_RED_per_SSAbldg',\n",
    "                                     'OR_per_SSAbldg':'GEN_OR_per_SSAbldg',\n",
    "                                    'Yellow_per_LSbl':'GEN_Yellow_per_LSbl',\n",
    "                                     'mean_slope':'TOP_mean_slope',\n",
    "                                    'mean_elevation_m':'TOP_mean_elevation_m',\n",
    "                                     'ruggedness_stdev':'TOP_ruggedness_stdev',\n",
    "                                    'mean_ruggedness':'TOP_mean_ruggedness',\n",
    "                                     'slope_stdev':'TOP_slope_stdev',\n",
    "                                     'poverty_perc':'VUL_poverty_perc',\n",
    "                                    'with_coast':'GEN_with_coast',\n",
    "                                     'coast_length':'GEN_coast_length',\n",
    "                                     'Housing Units':'VUL_Housing_Units',\n",
    "                                    'Strong Roof/Strong Wall':\"VUL_StrongRoof_StrongWall\",\n",
    "                                    'Strong Roof/Light Wall':'VUL_StrongRoof_LightWall',\n",
    "                                    'Strong Roof/Salvage Wall':'VUL_StrongRoof_SalvageWall',\n",
    "                                    'Light Roof/Strong Wall':'VUL_LightRoof_StrongWall',\n",
    "                                    'Light Roof/Light Wall':'VUL_LightRoof_LightWall',\n",
    "                                    'Light Roof/Salvage Wall':'VUL_LightRoof_SalvageWall',\n",
    "                                    'Salvaged Roof/Strong Wall':'VUL_SalvagedRoof_StrongWall',\n",
    "                                    'Salvaged Roof/Light Wall':'VUL_SalvagedRoof_LightWall',\n",
    "                                    'Salvaged Roof/Salvage Wall':'VUL_SalvagedRoof_SalvageWall',\n",
    "                                    'vulnerable_groups':'VUL_vulnerable_groups',\n",
    "                                    'pantawid_pamilya_beneficiary':'VUL_pantawid_pamilya_beneficiary'},inplace=True)\n",
    "\n",
    "\n"
   ]
  },
  {
   "cell_type": "code",
   "execution_count": 44,
   "metadata": {},
   "outputs": [],
   "source": [
    "selected_columns=['Mun_Code', 'typhoon', 'HAZ_rainfall_Total', 'HAZ_rainfall_max_6h',\n",
    "'HAZ_rainfall_max_24h','HAZ_v_max', 'HAZ_dis_track_min','GEN_landslide_per', 'GEN_stormsurge_per',\n",
    "'GEN_Bu_p_inSSA','GEN_Bu_p_LS', 'GEN_Red_per_LSbldg', 'GEN_Or_per_LSblg','GEN_Yel_per_LSSAb',\n",
    "'GEN_RED_per_SSAbldg', 'GEN_OR_per_SSAbldg','GEN_Yellow_per_LSbl', 'TOP_mean_slope', 'TOP_mean_elevation_m',\n",
    "'TOP_ruggedness_stdev', 'TOP_mean_ruggedness', 'TOP_slope_stdev','VUL_poverty_perc', 'GEN_with_coast',\n",
    "'GEN_coast_length','VUL_Housing_Units', 'VUL_StrongRoof_StrongWall','VUL_StrongRoof_LightWall',\n",
    "'VUL_StrongRoof_SalvageWall','VUL_LightRoof_StrongWall', 'VUL_LightRoof_LightWall','VUL_LightRoof_SalvageWall',\n",
    "'VUL_SalvagedRoof_StrongWall','VUL_SalvagedRoof_LightWall', 'VUL_SalvagedRoof_SalvageWall','VUL_vulnerable_groups',\n",
    "'VUL_pantawid_pamilya_beneficiary','DAM_perc_dmg']\n",
    "\n",
    "\n",
    "\n",
    "df_total = df_total.filter(selected_columns)\n",
    "    "
   ]
  },
  {
   "cell_type": "code",
   "execution_count": null,
   "metadata": {},
   "outputs": [],
   "source": [
    "df_predisasters"
   ]
  },
  {
   "cell_type": "markdown",
   "metadata": {},
   "source": [
    "### save final dataframe for model input"
   ]
  },
  {
   "cell_type": "code",
   "execution_count": 158,
   "metadata": {},
   "outputs": [],
   "source": [
    "df_predisasters.to_csv(\"./data/model_input/df_predisasters.csv\", index=False)"
   ]
  },
  {
   "cell_type": "code",
   "execution_count": null,
   "metadata": {},
   "outputs": [],
   "source": [
    "np.mean(df_total[\"DAM_perc_dmg\"])"
   ]
  },
  {
   "cell_type": "code",
   "execution_count": 97,
   "metadata": {},
   "outputs": [],
   "source": [
    "df_total=df_total[df_total[\"DAM_perc_dmg\"].notnull()]"
   ]
  },
  {
   "cell_type": "code",
   "execution_count": null,
   "metadata": {},
   "outputs": [],
   "source": [
    "len(df_total)"
   ]
  },
  {
   "cell_type": "code",
   "execution_count": null,
   "metadata": {},
   "outputs": [],
   "source": [
    "np.mean(df_total[\"DAM_perc_dmg\"])"
   ]
  },
  {
   "cell_type": "code",
   "execution_count": null,
   "metadata": {},
   "outputs": [],
   "source": []
  }
 ],
 "metadata": {
  "kernelspec": {
   "display_name": "climada_env",
   "language": "python",
   "name": "python3"
  },
  "language_info": {
   "codemirror_mode": {
    "name": "ipython",
    "version": 3
   },
   "file_extension": ".py",
   "mimetype": "text/x-python",
   "name": "python",
   "nbconvert_exporter": "python",
   "pygments_lexer": "ipython3",
   "version": "3.9.18"
  }
 },
 "nbformat": 4,
 "nbformat_minor": 2
}
